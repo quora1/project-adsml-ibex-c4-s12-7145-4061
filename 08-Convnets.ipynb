{
 "cells": [
  {
   "cell_type": "markdown",
   "id": "0c5f451c-b1e5-4dce-ac0c-d6317c2bd51f",
   "metadata": {},
   "source": [
    "# 08-Convnets\n",
    "\n",
    "Can you get similar results by creating a ConvNet from scratch and using the pixel values from the original images to train the model?\n",
    "\n",
    "What accuracy can you achieve?\n",
    "Can you get good results? - If not, why?"
   ]
  },
  {
   "cell_type": "code",
   "execution_count": 32,
   "id": "1b919dd3-b78f-44a1-859c-20068a6abfe5",
   "metadata": {},
   "outputs": [],
   "source": [
    "import tensorflow as tf\n",
    "import tensorflow_hub as hub\n",
    "import os\n",
    "import numpy as np\n",
    "import matplotlib.pyplot as plt\n",
    "import seaborn as sns\n",
    "from tensorflow.keras.preprocessing.image import ImageDataGenerator\n",
    "import tensorflow as tf\n",
    "from tensorflow.keras.models import Sequential\n",
    "from tensorflow.keras.layers import Conv2D, MaxPooling2D, Flatten, Dense\n"
   ]
  },
  {
   "cell_type": "markdown",
   "id": "5b9952f9-28f1-4380-accf-1c0a349d6b94",
   "metadata": {},
   "source": [
    "### 1. loading the pictures"
   ]
  },
  {
   "cell_type": "code",
   "execution_count": 33,
   "id": "1d0ab1bd-60fd-4462-843a-2d6627194aed",
   "metadata": {},
   "outputs": [
    {
     "name": "stdout",
     "output_type": "stream",
     "text": [
      "trainset:\n",
      "Found 280 images belonging to 6 classes.\n",
      "validset:\n",
      "Found 139 images belonging to 6 classes.\n",
      "testset:\n",
      "Found 50 images belonging to 6 classes.\n"
     ]
    }
   ],
   "source": [
    "# Directory containing the dataset\n",
    "dataset_dir = \"swissroads\"\n",
    "\n",
    "# Creating image generator for train and test, rescaling and data augmenting\n",
    "\n",
    "train_generator = ImageDataGenerator(rescale=1/256, horizontal_flip=True, rotation_range=5) \n",
    "test_generator = ImageDataGenerator(rescale=1 / 256)\n",
    "\n",
    "# File iterators for Train, validation and test sets\n",
    "\n",
    "print('trainset:')\n",
    "trainset = train_generator.flow_from_directory(\n",
    "    os.path.join(dataset_dir, \"train\"),\n",
    "    batch_size=32,\n",
    "    target_size=(256, 256), \n",
    "    shuffle=True,\n",
    "    subset=\"training\"\n",
    ")\n",
    "print('validset:')\n",
    "validset = train_generator.flow_from_directory(\n",
    "    os.path.join(dataset_dir, \"valid\"),\n",
    "    batch_size=32,\n",
    "    target_size=(256, 256),\n",
    "    shuffle=False\n",
    ")\n",
    "print('testset:')\n",
    "testset = test_generator.flow_from_directory(\n",
    "    os.path.join(dataset_dir, \"test\"), \n",
    "    batch_size=32, \n",
    "    target_size=(256, 256), \n",
    "    shuffle=False,\n",
    ")"
   ]
  },
  {
   "cell_type": "code",
   "execution_count": 34,
   "id": "e258d02a-c428-40db-882f-23fb3feb46d9",
   "metadata": {},
   "outputs": [
    {
     "name": "stdout",
     "output_type": "stream",
     "text": [
      "Trainset: (32, 256, 256, 3) (32, 6)\n",
      "Validset: (32, 256, 256, 3) (32, 6)\n",
      "Testset: (32, 256, 256, 3) (32, 6)\n"
     ]
    }
   ],
   "source": [
    "# Display the shapes of the datasets\n",
    "print('Trainset:', trainset[4][0].shape, trainset[0][1].shape)\n",
    "print('Validset:', validset[0][0].shape, validset[0][1].shape)\n",
    "print('Testset:', testset[0][0].shape, testset[0][1].shape)"
   ]
  },
  {
   "cell_type": "markdown",
   "id": "033d02a3-7325-499f-905c-44e135c5f7ed",
   "metadata": {},
   "source": [
    "### 2. Defining convolutional neural network architecture using keras"
   ]
  },
  {
   "cell_type": "code",
   "execution_count": 35,
   "id": "ee4bc07d-d5f5-4fcc-a24f-3d5c8af02e2e",
   "metadata": {},
   "outputs": [],
   "source": [
    "# arbitrarily chosen parameters\n",
    "\n",
    "input_shape = (256, 256, 3)\n",
    "n_filters_conv1 = 20\n",
    "n_filters_conv2 = 16\n",
    "filter_size =(3, 3)\n",
    "internal_activ_function = 'relu'\n",
    "final_activ_function = 'softmax'\n",
    "Max_pooling_dim =(2, 2)\n",
    "n_neurons_hidden_layer1 = 60\n",
    "n_neurons_hidden_layer2 = 40\n",
    "n_labels = 6\n",
    "\n",
    "\n",
    "model = Sequential([\n",
    "    # first convolutional layer\n",
    "    Conv2D(n_filters_conv1, filter_size, activation=internal_activ_function, input_shape=input_shape),\n",
    "    MaxPooling2D(Max_pooling_dim),\n",
    "    \n",
    "    # second convolutional layer\n",
    "    Conv2D(n_filters_conv2, filter_size, activation=internal_activ_function),\n",
    "    MaxPooling2D(Max_pooling_dim),\n",
    "    \n",
    "    # \"normal\" neural network run of the filtered/transformed output\n",
    "    Flatten(), #to turn 3D output into a flat vector\n",
    "    \n",
    "    # first hidden layer\n",
    "    Dense(n_neurons_hidden_layer1, activation=internal_activ_function),\n",
    "    \n",
    "    # second hidden layer\n",
    "    Dense(n_neurons_hidden_layer2, activation=internal_activ_function),\n",
    "    \n",
    "    #Output Layer\n",
    "    Dense(n_labels, activation=final_activ_function) \n",
    "    \n",
    "])"
   ]
  },
  {
   "cell_type": "markdown",
   "id": "1fbed505-ae29-41cf-abe3-6b8eb17b0d4d",
   "metadata": {},
   "source": [
    "### 3. training & validation"
   ]
  },
  {
   "cell_type": "code",
   "execution_count": 36,
   "id": "76aaf424-5e64-4522-b57e-8e65bf8e3e78",
   "metadata": {},
   "outputs": [
    {
     "name": "stdout",
     "output_type": "stream",
     "text": [
      "Model: \"sequential_3\"\n",
      "_________________________________________________________________\n",
      " Layer (type)                Output Shape              Param #   \n",
      "=================================================================\n",
      " conv2d_10 (Conv2D)          (None, 254, 254, 20)      560       \n",
      "                                                                 \n",
      " max_pooling2d_10 (MaxPooli  (None, 127, 127, 20)      0         \n",
      " ng2D)                                                           \n",
      "                                                                 \n",
      " conv2d_11 (Conv2D)          (None, 125, 125, 16)      2896      \n",
      "                                                                 \n",
      " max_pooling2d_11 (MaxPooli  (None, 62, 62, 16)        0         \n",
      " ng2D)                                                           \n",
      "                                                                 \n",
      " flatten_4 (Flatten)         (None, 61504)             0         \n",
      "                                                                 \n",
      " dense_8 (Dense)             (None, 60)                3690300   \n",
      "                                                                 \n",
      " dense_9 (Dense)             (None, 40)                2440      \n",
      "                                                                 \n",
      " dense_10 (Dense)            (None, 6)                 246       \n",
      "                                                                 \n",
      "=================================================================\n",
      "Total params: 3696442 (14.10 MB)\n",
      "Trainable params: 3696442 (14.10 MB)\n",
      "Non-trainable params: 0 (0.00 Byte)\n",
      "_________________________________________________________________\n",
      "Epoch 1/20\n",
      "9/9 [==============================] - 11s 1s/step - loss: 2.2888 - accuracy: 0.2071 - val_loss: 1.7688 - val_accuracy: 0.2200\n",
      "Epoch 2/20\n",
      "9/9 [==============================] - 9s 1s/step - loss: 1.7693 - accuracy: 0.2214 - val_loss: 1.7595 - val_accuracy: 0.3000\n",
      "Epoch 3/20\n",
      "9/9 [==============================] - 9s 942ms/step - loss: 1.7302 - accuracy: 0.2964 - val_loss: 1.7096 - val_accuracy: 0.2800\n",
      "Epoch 4/20\n",
      "9/9 [==============================] - 10s 1s/step - loss: 1.6465 - accuracy: 0.3750 - val_loss: 1.6732 - val_accuracy: 0.4000\n",
      "Epoch 5/20\n",
      "9/9 [==============================] - 10s 1s/step - loss: 1.5380 - accuracy: 0.4286 - val_loss: 1.5370 - val_accuracy: 0.4200\n",
      "Epoch 6/20\n",
      "9/9 [==============================] - 10s 1s/step - loss: 1.3867 - accuracy: 0.5000 - val_loss: 1.5002 - val_accuracy: 0.3400\n",
      "Epoch 7/20\n",
      "9/9 [==============================] - 9s 1s/step - loss: 1.1842 - accuracy: 0.5964 - val_loss: 1.5684 - val_accuracy: 0.4000\n",
      "Epoch 8/20\n",
      "9/9 [==============================] - 10s 1s/step - loss: 1.0186 - accuracy: 0.6679 - val_loss: 1.4357 - val_accuracy: 0.4000\n",
      "Epoch 9/20\n",
      "9/9 [==============================] - 9s 935ms/step - loss: 0.7981 - accuracy: 0.7321 - val_loss: 1.5060 - val_accuracy: 0.4000\n",
      "Epoch 10/20\n",
      "9/9 [==============================] - 12s 1s/step - loss: 0.6511 - accuracy: 0.7607 - val_loss: 1.7118 - val_accuracy: 0.3800\n",
      "Epoch 11/20\n",
      "9/9 [==============================] - 9s 962ms/step - loss: 0.4744 - accuracy: 0.8607 - val_loss: 1.5728 - val_accuracy: 0.4400\n",
      "Epoch 12/20\n",
      "9/9 [==============================] - 9s 1s/step - loss: 0.3714 - accuracy: 0.9250 - val_loss: 1.6453 - val_accuracy: 0.4000\n",
      "Epoch 13/20\n",
      "9/9 [==============================] - 10s 1s/step - loss: 0.3436 - accuracy: 0.8964 - val_loss: 1.7772 - val_accuracy: 0.4600\n",
      "Epoch 14/20\n",
      "9/9 [==============================] - 10s 1s/step - loss: 0.2886 - accuracy: 0.8964 - val_loss: 1.6879 - val_accuracy: 0.4400\n",
      "Epoch 15/20\n",
      "9/9 [==============================] - 8s 853ms/step - loss: 0.2072 - accuracy: 0.9357 - val_loss: 2.0840 - val_accuracy: 0.3600\n",
      "Epoch 16/20\n",
      "9/9 [==============================] - 8s 925ms/step - loss: 0.1560 - accuracy: 0.9643 - val_loss: 2.2208 - val_accuracy: 0.3600\n",
      "Epoch 17/20\n",
      "9/9 [==============================] - 9s 941ms/step - loss: 0.1725 - accuracy: 0.9679 - val_loss: 2.2123 - val_accuracy: 0.3200\n",
      "Epoch 18/20\n",
      "9/9 [==============================] - 9s 961ms/step - loss: 0.1787 - accuracy: 0.9607 - val_loss: 1.9605 - val_accuracy: 0.4600\n",
      "Epoch 19/20\n",
      "9/9 [==============================] - 9s 944ms/step - loss: 0.0782 - accuracy: 0.9857 - val_loss: 1.9482 - val_accuracy: 0.4600\n",
      "Epoch 20/20\n",
      "9/9 [==============================] - 9s 978ms/step - loss: 0.0743 - accuracy: 0.9893 - val_loss: 2.3618 - val_accuracy: 0.3600\n"
     ]
    }
   ],
   "source": [
    "# Compilation \n",
    "model.compile(optimizer='adam', loss='categorical_crossentropy', metrics=['accuracy'])\n",
    "\n",
    "model.summary()\n",
    "\n",
    "# training\n",
    "history = model.fit(trainset, epochs=20, validation_data=testset)\n"
   ]
  },
  {
   "cell_type": "code",
   "execution_count": 38,
   "id": "cf61ba3a-e186-4b06-8640-068d418c71f3",
   "metadata": {},
   "outputs": [
    {
     "data": {
      "image/png": "[encoded data removed]",
      "text/plain": [
       "<Figure size 640x480 with 1 Axes>"
      ]
     },
     "metadata": {},
     "output_type": "display_data"
    }
   ],
   "source": [
    "# Plotting accuracy values\n",
    "\n",
    "plt.plot(history.history['accuracy'])\n",
    "plt.plot(history.history['val_accuracy'])\n",
    "plt.title('Model accuracy')\n",
    "plt.ylabel('Accuracy')\n",
    "plt.xlabel('Epoch')\n",
    "plt.legend(['Train', 'Validation'], loc='upper left')\n",
    "plt.show()"
   ]
  },
  {
   "cell_type": "markdown",
   "id": "73cbf814-2386-4fb7-ab52-592a613666a5",
   "metadata": {},
   "source": [
    "Observation: <br>\n",
    "\n",
    "The CNN model yields globally higher average validation accuracy than those of other model but is strongly overfitting and could most likely benefit from regularisation.\n",
    "\n",
    "This is also the only model that runs on the original features, which seems to be beneficial. By applying the kernels/filters, the method does itself some sort of feature extraction and the adventage is that it does on the actual data that we use whereas  MobileNet v2 model does its feature extraction on a different/larger set of data so its more general. Again, for the definite conclusion one should fine-tune all of these NN models and only compare the best results."
   ]
  },
  {
   "cell_type": "code",
   "execution_count": null,
   "id": "7b367700-b8d7-489b-a5bf-d6e54454c65d",
   "metadata": {},
   "outputs": [],
   "source": []
  },
  {
   "cell_type": "code",
   "execution_count": null,
   "id": "8177145b-eced-49c4-8f24-50130af7c185",
   "metadata": {},
   "outputs": [],
   "source": []
  },
  {
   "cell_type": "code",
   "execution_count": null,
   "id": "e2d56603-d7fd-45d8-8cc5-0405a9c887c6",
   "metadata": {},
   "outputs": [],
   "source": []
  },
  {
   "cell_type": "code",
   "execution_count": null,
   "id": "254264dc-52d0-46b7-9092-5db4bbd9d4f8",
   "metadata": {},
   "outputs": [],
   "source": []
  }
 ],
 "metadata": {
  "kernelspec": {
   "display_name": "Python [conda env:adsml] *",
   "language": "python",
   "name": "conda-env-adsml-py"
  },
  "language_info": {
   "codemirror_mode": {
    "name": "ipython",
    "version": 3
   },
   "file_extension": ".py",
   "mimetype": "text/x-python",
   "name": "python",
   "nbconvert_exporter": "python",
   "pygments_lexer": "ipython3",
   "version": "3.9.17"
  }
 },
 "nbformat": 4,
 "nbformat_minor": 5
}
