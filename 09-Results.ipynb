{
 "cells": [
  {
   "cell_type": "markdown",
   "id": "cf3c4737-3341-429a-890f-f13d97d80ec5",
   "metadata": {},
   "source": [
    "# Results comparison\n",
    "\n",
    "\n"
   ]
  },
  {
   "cell_type": "code",
   "execution_count": 5,
   "id": "fbde6da1-dede-4bf6-a36a-56fe19828733",
   "metadata": {},
   "outputs": [],
   "source": [
    "import pandas as pd\n",
    "import matplotlib.pyplot as plt\n",
    "\n",
    "models = ['k-NN','logistic', 'decision tree', 'random forest', ' 1NN', '1NNr', '2NN', '2NNr', 'CNN']\n",
    "test_accuracy = [0.44, 0.28, 0.29, 0.34, 0.34, 0.42 , 0.22, 0.36, 0.46  ]\n",
    "characteristics = ['fine-tuned', 'fine-tuned','fine-tuned', 'fine-tuned', 'arbitrary parameters',\n",
    "                  'arbitrary regularisation strengthg','arbitrary parameters',\n",
    "                  'arbitrary parameters and regularisation strengthg','arbitrary parameters']"
   ]
  },
  {
   "cell_type": "code",
   "execution_count": 6,
   "id": "a25aafbd-5b75-493d-9766-73b1ef7aa8af",
   "metadata": {},
   "outputs": [
    {
     "data": {
      "text/html": [
       "<div>\n",
       "<style scoped>\n",
       "    .dataframe tbody tr th:only-of-type {\n",
       "        vertical-align: middle;\n",
       "    }\n",
       "\n",
       "    .dataframe tbody tr th {\n",
       "        vertical-align: top;\n",
       "    }\n",
       "\n",
       "    .dataframe thead th {\n",
       "        text-align: right;\n",
       "    }\n",
       "</style>\n",
       "<table border=\"1\" class=\"dataframe\">\n",
       "  <thead>\n",
       "    <tr style=\"text-align: right;\">\n",
       "      <th></th>\n",
       "      <th>method</th>\n",
       "      <th>test accuracy</th>\n",
       "      <th>characteristics</th>\n",
       "    </tr>\n",
       "  </thead>\n",
       "  <tbody>\n",
       "    <tr>\n",
       "      <th>0</th>\n",
       "      <td>k-NN</td>\n",
       "      <td>0.44</td>\n",
       "      <td>fine-tuned</td>\n",
       "    </tr>\n",
       "    <tr>\n",
       "      <th>1</th>\n",
       "      <td>logistic</td>\n",
       "      <td>0.28</td>\n",
       "      <td>fine-tuned</td>\n",
       "    </tr>\n",
       "    <tr>\n",
       "      <th>2</th>\n",
       "      <td>decision tree</td>\n",
       "      <td>0.29</td>\n",
       "      <td>fine-tuned</td>\n",
       "    </tr>\n",
       "    <tr>\n",
       "      <th>3</th>\n",
       "      <td>random forest</td>\n",
       "      <td>0.34</td>\n",
       "      <td>fine-tuned</td>\n",
       "    </tr>\n",
       "    <tr>\n",
       "      <th>4</th>\n",
       "      <td>1NN</td>\n",
       "      <td>0.34</td>\n",
       "      <td>arbitrary parameters</td>\n",
       "    </tr>\n",
       "    <tr>\n",
       "      <th>5</th>\n",
       "      <td>1NNr</td>\n",
       "      <td>0.42</td>\n",
       "      <td>arbitrary regularisation strengthg</td>\n",
       "    </tr>\n",
       "    <tr>\n",
       "      <th>6</th>\n",
       "      <td>2NN</td>\n",
       "      <td>0.22</td>\n",
       "      <td>arbitrary parameters</td>\n",
       "    </tr>\n",
       "    <tr>\n",
       "      <th>7</th>\n",
       "      <td>2NNr</td>\n",
       "      <td>0.40</td>\n",
       "      <td>arbitrary parameters and regularisation strengthg</td>\n",
       "    </tr>\n",
       "    <tr>\n",
       "      <th>8</th>\n",
       "      <td>CNN</td>\n",
       "      <td>0.46</td>\n",
       "      <td>arbitrary parameters</td>\n",
       "    </tr>\n",
       "  </tbody>\n",
       "</table>\n",
       "</div>"
      ],
      "text/plain": [
       "          method  test accuracy  \\\n",
       "0           k-NN           0.44   \n",
       "1       logistic           0.28   \n",
       "2  decision tree           0.29   \n",
       "3  random forest           0.34   \n",
       "4            1NN           0.34   \n",
       "5           1NNr           0.42   \n",
       "6            2NN           0.22   \n",
       "7           2NNr           0.40   \n",
       "8            CNN           0.46   \n",
       "\n",
       "                                     characteristics  \n",
       "0                                         fine-tuned  \n",
       "1                                         fine-tuned  \n",
       "2                                         fine-tuned  \n",
       "3                                         fine-tuned  \n",
       "4                               arbitrary parameters  \n",
       "5                 arbitrary regularisation strengthg  \n",
       "6                               arbitrary parameters  \n",
       "7  arbitrary parameters and regularisation strengthg  \n",
       "8                               arbitrary parameters  "
      ]
     },
     "execution_count": 6,
     "metadata": {},
     "output_type": "execute_result"
    }
   ],
   "source": [
    "comparison = pd.DataFrame({'method': models, 'test accuracy': test_accuracy, \n",
    "                           'characteristics': characteristics})\n",
    "comparison"
   ]
  },
  {
   "cell_type": "code",
   "execution_count": 7,
   "id": "756ff519-70da-4c42-bbc3-95bd3df57ea8",
   "metadata": {},
   "outputs": [
    {
     "data": {
      "image/png": "[encoded data removed]",
      "text/plain": [
       "<Figure size 640x480 with 1 Axes>"
      ]
     },
     "metadata": {},
     "output_type": "display_data"
    }
   ],
   "source": [
    "# Plotting the bar plot\n",
    "comparison.plot(x='method', y='test accuracy', kind='bar', color='skyblue', legend=False)\n",
    "\n",
    "# Adding labels and title\n",
    "plt.xlabel('Method')\n",
    "plt.ylabel('Test Accuracy')\n",
    "plt.title('Comparison of Test Accuracy by Method')\n",
    "\n",
    "# Show the plot\n",
    "plt.show()"
   ]
  },
  {
   "cell_type": "markdown",
   "id": "26e02c16-13c4-4896-aac7-dcd3308f9c3a",
   "metadata": {},
   "source": [
    "Observation: <br>\n",
    "It is not easy to compare the above results as none of the NN methods was properly tuned and their accuracy was computed with arbitrary parameters. Amont the non-NN methods the special mention goes to k_NN that did really well in terms of the test accuracy and among the NN models, to the CNN method, which without any regularisation or fine tuning did better than other neural network models.\n",
    "It is very likely that CNN (given it's adaptation to image regocnition) would outperform them with the right fine-tuning /architecture.\n",
    "\n",
    "\n"
   ]
  },
  {
   "cell_type": "code",
   "execution_count": null,
   "id": "fc9919e2-c013-4b8c-b087-010872e56822",
   "metadata": {},
   "outputs": [],
   "source": []
  }
 ],
 "metadata": {
  "kernelspec": {
   "display_name": "Python [conda env:adsml] *",
   "language": "python",
   "name": "conda-env-adsml-py"
  },
  "language_info": {
   "codemirror_mode": {
    "name": "ipython",
    "version": 3
   },
   "file_extension": ".py",
   "mimetype": "text/x-python",
   "name": "python",
   "nbconvert_exporter": "python",
   "pygments_lexer": "ipython3",
   "version": "3.9.17"
  }
 },
 "nbformat": 4,
 "nbformat_minor": 5
}
